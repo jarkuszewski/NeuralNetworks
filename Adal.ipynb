{
  "nbformat": 4,
  "nbformat_minor": 0,
  "metadata": {
    "colab": {
      "name": "Adal.ipynb",
      "provenance": [],
      "authorship_tag": "ABX9TyOWgVQRWB5UTz8UnhQ2QbG3",
      "include_colab_link": true
    },
    "kernelspec": {
      "name": "python3",
      "display_name": "Python 3"
    }
  },
  "cells": [
    {
      "cell_type": "markdown",
      "metadata": {
        "id": "view-in-github",
        "colab_type": "text"
      },
      "source": [
        "<a href=\"https://colab.research.google.com/github/jarkuszewski/NeuralNetworks/blob/main/Adal.ipynb\" target=\"_parent\"><img src=\"https://colab.research.google.com/assets/colab-badge.svg\" alt=\"Open In Colab\"/></a>"
      ]
    },
    {
      "cell_type": "code",
      "metadata": {
        "id": "pITUqc82WNHu"
      },
      "source": [
        "import numpy as np\r\n",
        "from keras.datasets import mnist\r\n",
        "from matplotlib import pyplot as plt\r\n",
        "\r\n",
        "#deklaracja zmiennych\r\n",
        "LEARNING_RATE = 0.0001\r\n",
        "IMAGE_VECTOR_SIZE = 28 * 28\r\n",
        "EPOCHS = 100000\r\n",
        "error = []\r\n",
        "\r\n",
        "#wczytanie danych\r\n",
        "(x_train, y_train), (x_test, y_test) = mnist.load_data()\r\n"
      ],
      "execution_count": 27,
      "outputs": []
    },
    {
      "cell_type": "code",
      "metadata": {
        "id": "Re_kYD5oWgiO",
        "colab": {
          "base_uri": "https://localhost:8080/",
          "height": 283
        },
        "outputId": "c61604c8-eb7f-4232-be6b-40514028d548"
      },
      "source": [
        "plt.imshow(x_train[5], cmap='gray')"
      ],
      "execution_count": 517,
      "outputs": [
        {
          "output_type": "execute_result",
          "data": {
            "text/plain": [
              "<matplotlib.image.AxesImage at 0x7f8a3f5e99b0>"
            ]
          },
          "metadata": {
            "tags": []
          },
          "execution_count": 517
        },
        {
          "output_type": "display_data",
          "data": {
            "image/png": "[encoded data removed]",
            "text/plain": [
              "<Figure size 432x288 with 1 Axes>"
            ]
          },
          "metadata": {
            "tags": [],
            "needs_background": "light"
          }
        }
      ]
    },
    {
      "cell_type": "code",
      "metadata": {
        "colab": {
          "base_uri": "https://localhost:8080/"
        },
        "id": "QUAyDKnQWrNr",
        "outputId": "28b71b0a-3fa4-4dbb-f976-54f52518fb1f"
      },
      "source": [
        "# Spłaszczenie obrazów i normalizacja\r\n",
        "x_train = x_train.reshape(x_train.shape[0], IMAGE_VECTOR_SIZE)\r\n",
        "x_train = np.ceil(x_train / 255.0)\r\n",
        "x_train_with_bias = np.zeros((x_train.shape[0], IMAGE_VECTOR_SIZE + 1))\r\n",
        "\r\n",
        "for i, value in enumerate(x_train):\r\n",
        "  x_train_with_bias[i] = np.concatenate((np.array([1]), x_train[i]))\r\n",
        "\r\n",
        "x_train_with_bias.shape"
      ],
      "execution_count": 2,
      "outputs": [
        {
          "output_type": "execute_result",
          "data": {
            "text/plain": [
              "(60000, 785)"
            ]
          },
          "metadata": {
            "tags": []
          },
          "execution_count": 2
        }
      ]
    },
    {
      "cell_type": "code",
      "metadata": {
        "colab": {
          "base_uri": "https://localhost:8080/"
        },
        "id": "eecawgahXZI8",
        "outputId": "2078d7a9-9451-4e6f-e032-03c68b85a3dc"
      },
      "source": [
        "x_test = x_test.reshape(x_test.shape[0], IMAGE_VECTOR_SIZE)\r\n",
        "x_test = np.ceil(x_test / 255.0)\r\n",
        "x_test_with_bias = np.zeros((x_test.shape[0], IMAGE_VECTOR_SIZE + 1))\r\n",
        "\r\n",
        "for i, value in enumerate(x_test):\r\n",
        "  x_test_with_bias[i] = np.concatenate((np.array([1]), x_test[i]))\r\n",
        "\r\n",
        "x_test_with_bias.shape"
      ],
      "execution_count": 3,
      "outputs": [
        {
          "output_type": "execute_result",
          "data": {
            "text/plain": [
              "(10000, 785)"
            ]
          },
          "metadata": {
            "tags": []
          },
          "execution_count": 3
        }
      ]
    },
    {
      "cell_type": "code",
      "metadata": {
        "id": "N43yGVUtX22r"
      },
      "source": [
        "def train(E, C, iteracja):\r\n",
        "  weights = np.random.uniform(low=-0.01, high=0.01, size=IMAGE_VECTOR_SIZE + 1)\r\n",
        "  for tmp in range(EPOCHS):\r\n",
        "    # Get index of random input example (j)\r\n",
        "    j = np.random.randint(len(E))\r\n",
        "    # Get result (O)\r\n",
        "    result = np.sum(weights * E[j])\r\n",
        "    # Get error (ERR)\r\n",
        "    ERR = C[j] - result\r\n",
        "    if tmp < 1:\r\n",
        "      error.append(len(y_test) - correct_nums())\r\n",
        "    weights += LEARNING_RATE * ERR * E[j]\r\n",
        "  return weights"
      ],
      "execution_count": 37,
      "outputs": []
    },
    {
      "cell_type": "code",
      "metadata": {
        "id": "cmF9u1p1YCVr",
        "colab": {
          "base_uri": "https://localhost:8080/"
        },
        "outputId": "0722c444-272e-4019-b9c5-632c9b52fd2a"
      },
      "source": [
        "perceptrons = []\r\n",
        "for i in range(10):\r\n",
        "  perceptrons.append(train(x_train_with_bias, [1 if val == i else -1 for val in y_train], i))"
      ],
      "execution_count": 41,
      "outputs": [
        {
          "output_type": "stream",
          "text": [
            "Total 0/10000 (0.0%)\n",
            "Total 902/10000 (9.02%)\n",
            "Total 1930/10000 (19.3%)\n",
            "Total 2641/10000 (26.41%)\n",
            "Total 3326/10000 (33.26%)\n",
            "Total 4024/10000 (40.24%)\n",
            "Total 4380/10000 (43.8%)\n",
            "Total 5140/10000 (51.4%)\n",
            "Total 5904/10000 (59.04%)\n",
            "Total 6277/10000 (62.77%)\n"
          ],
          "name": "stdout"
        }
      ]
    },
    {
      "cell_type": "code",
      "metadata": {
        "id": "6_PoKRb1YPGJ"
      },
      "source": [
        "def prediction(input):\r\n",
        "  predictions = []\r\n",
        "  #10 perceptronów\r\n",
        "  for perceptron in perceptrons:\r\n",
        "    #waga * input\r\n",
        "    predictions.append(np.sum(perceptron * input))\r\n",
        "\r\n",
        "  result = []\r\n",
        "  for i, value in enumerate(predictions):\r\n",
        "    if value > 0:\r\n",
        "      result.append(i)\r\n",
        "  \r\n",
        "  return result"
      ],
      "execution_count": 15,
      "outputs": []
    },
    {
      "cell_type": "code",
      "metadata": {
        "id": "VyygiGF7Yc4o"
      },
      "source": [
        "def correct_nums():\r\n",
        "  correct_numbers_counter = 0\r\n",
        "\r\n",
        "  for i, value in enumerate(x_test_with_bias):\r\n",
        "    predicted_number = prediction(value)\r\n",
        "    correct_number = y_test[i]\r\n",
        "  \r\n",
        "    if correct_number in predicted_number and len(predicted_number) == 1:\r\n",
        "      correct_numbers_counter += 1\r\n",
        "\r\n",
        "  total_in_percents = round(float(correct_numbers_counter) / float(len(y_test)) * 100.0, 2)\r\n",
        "  print('Total {good}/{total} ({percents}%)'.format(\r\n",
        "      good=correct_numbers_counter,\r\n",
        "      total=len(y_test),\r\n",
        "      percents=total_in_percents,\r\n",
        "  ))\r\n",
        "  return correct_numbers_counter"
      ],
      "execution_count": 40,
      "outputs": []
    },
    {
      "cell_type": "code",
      "metadata": {
        "colab": {
          "base_uri": "https://localhost:8080/",
          "height": 301
        },
        "id": "3_Tbr72KK0yJ",
        "outputId": "086c9929-6014-4cb1-d62f-f3f1a789d44d"
      },
      "source": [
        "correct_nums()\r\n",
        "plt.plot(error)"
      ],
      "execution_count": 42,
      "outputs": [
        {
          "output_type": "stream",
          "text": [
            "Total 6852/10000 (68.52%)\n"
          ],
          "name": "stdout"
        },
        {
          "output_type": "execute_result",
          "data": {
            "text/plain": [
              "[<matplotlib.lines.Line2D at 0x7f0960c39da0>]"
            ]
          },
          "metadata": {
            "tags": []
          },
          "execution_count": 42
        },
        {
          "output_type": "display_data",
          "data": {
            "image/png": "[encoded data removed]",
            "text/plain": [
              "<Figure size 432x288 with 1 Axes>"
            ]
          },
          "metadata": {
            "tags": [],
            "needs_background": "light"
          }
        }
      ]
    }
  ]
}