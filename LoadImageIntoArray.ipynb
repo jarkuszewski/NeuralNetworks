{
  "nbformat": 4,
  "nbformat_minor": 0,
  "metadata": {
    "colab": {
      "name": "LoadImageIntoArray.ipynb",
      "provenance": [],
      "collapsed_sections": [],
      "authorship_tag": "ABX9TyPRUxugYMtDvRtYKxyTRwl5",
      "include_colab_link": true
    },
    "kernelspec": {
      "name": "python3",
      "display_name": "Python 3"
    }
  },
  "cells": [
    {
      "cell_type": "markdown",
      "metadata": {
        "id": "view-in-github",
        "colab_type": "text"
      },
      "source": [
        "<a href=\"https://colab.research.google.com/github/jarkuszewski/NeuralNetworks/blob/main/LoadImageIntoArray.ipynb\" target=\"_parent\"><img src=\"https://colab.research.google.com/assets/colab-badge.svg\" alt=\"Open In Colab\"/></a>"
      ]
    },
    {
      "cell_type": "code",
      "metadata": {
        "id": "-BExSJwNL-vt",
        "outputId": "78df8c64-4258-43b0-bb0d-0c551a99a5a9",
        "colab": {
          "base_uri": "https://localhost:8080/",
          "height": 316
        }
      },
      "source": [
        "# Splitting all pictures to array with single pictures\n",
        "\n",
        "import keras.preprocessing.image as kpi\n",
        "from matplotlib import pyplot as plt\n",
        "\n",
        "if __name__ == \"__main__\":\n",
        "  # An array of single picture\n",
        "  images = []\n",
        "\n",
        "  # Load the main image\n",
        "  main_img = kpi.load_img('cyfryN.png')\n",
        "\n",
        "  # Convert to numpy array\n",
        "  all_images = kpi.img_to_array(main_img)  # RGB 0-255 values\n",
        "  all_images /= 255  # RGB 0-1 values\n",
        "\n",
        "  # 70 x 40 x 3 - H x W x RGB\n",
        "  array_shape = all_images.shape\n",
        "  # 7 x 5 x 3 - H x W x RGB\n",
        "  single_img_shape = (array_shape[0] // 10, array_shape[1] // 8, array_shape[2])\n",
        "\n",
        "  # Split entire array with all numbers to single images\n",
        "  for i in range(10):\n",
        "    for j in range(8):\n",
        "      images.append(all_images[\n",
        "        i*single_img_shape[0]:(i+1)*single_img_shape[0],\n",
        "        j*single_img_shape[1]:(j+1)*single_img_shape[1]\n",
        "      ])\n",
        "\n",
        "  print(\"Wymiar pojedynczego obrazka:\", single_img_shape)\n",
        "  print(\"Ilość wszystkich obrazków:\", len(images))\n",
        "  print(\"Dziewiąty obrazek, pierwsza jedynka :\")\n",
        "  #Display image\n",
        "  plt.imshow(images[8])\n",
        "\n"
      ],
      "execution_count": 5,
      "outputs": [
        {
          "output_type": "stream",
          "text": [
            "Wymiar pojedynczego obrazka: (7, 5, 3)\n",
            "Ilość wszystkich obrazków: 80\n",
            "Dziewiąty obrazek, pierwsza jedynka :\n"
          ],
          "name": "stdout"
        },
        {
          "output_type": "display_data",
          "data": {
            "image/png": "[encoded data removed]",
            "text/plain": [
              "<Figure size 432x288 with 1 Axes>"
            ]
          },
          "metadata": {
            "tags": [],
            "needs_background": "light"
          }
        }
      ]
    }
  ]
}