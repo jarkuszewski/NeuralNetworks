{
  "nbformat": 4,
  "nbformat_minor": 0,
  "metadata": {
    "colab": {
      "name": "Uczenie2.ipynb",
      "provenance": [],
      "authorship_tag": "ABX9TyO2mJ+HVOtZc8FWCaclQY2Z",
      "include_colab_link": true
    },
    "kernelspec": {
      "name": "python3",
      "display_name": "Python 3"
    }
  },
  "cells": [
    {
      "cell_type": "markdown",
      "metadata": {
        "id": "view-in-github",
        "colab_type": "text"
      },
      "source": [
        "<a href=\"https://colab.research.google.com/github/jarkuszewski/NeuralNetworks/blob/main/Uczenie2.ipynb\" target=\"_parent\"><img src=\"https://colab.research.google.com/assets/colab-badge.svg\" alt=\"Open In Colab\"/></a>"
      ]
    },
    {
      "cell_type": "code",
      "metadata": {
        "id": "ebOU8yC6nyQg",
        "outputId": "235bd11e-cecf-4354-8e9b-9a82c43aecfa",
        "colab": {
          "base_uri": "https://localhost:8080/",
          "height": 265
        }
      },
      "source": [
        "import numpy as np \n",
        "from matplotlib import pyplot as plt\n",
        "\n",
        "if __name__ == \"__main__\":\n",
        "\n",
        "  A = np.random.randn(100,2) + [5,0]\n",
        "  \n",
        "  B = np.random.randn(100,2) + [-5,0]\n",
        "\n",
        "  E = np.zeros((200,2))\n",
        "  E[0:100] = A\n",
        "  E[100:200] = B\n",
        "\n",
        "  t = np.zeros((200,))\n",
        "  t[0:100] = -1\n",
        "  t[100:200] = 1\n",
        "\n",
        "  plt.scatter(E[:,0], E[:,1], c = t)\n",
        "\n",
        "  theta = np.random.randn(1)\n",
        "  eta = 0.1\n",
        "  wages = np.random.rand(1,2)\n",
        "  j = 0\n",
        "\n",
        "  while j < 200:\n",
        "    O = 0\n",
        "\n",
        "    for i in range(2):\n",
        "      O += wages[0][i] * E[j,i]\n",
        "    O-= theta\n",
        "\n",
        "    if O < 0:\n",
        "      O = -1\n",
        "    else:\n",
        "      O = 1\n",
        "\n",
        "    \n",
        "    ERR = t[j] - O\n",
        "\n",
        "    if ERR != 0:\n",
        "      for i in range(2):\n",
        "        wages[0,i] += eta * ERR * E[j,i]\n",
        "        theta = theta - eta * ERR\n",
        "      j = 0\n",
        "      continue\n",
        "    j += 1\n",
        "\n",
        "    x1, x2 = -2, 2\n",
        "  plt.plot([x1, x2], [-wages[0][0]/wages[0][1] * x1 + theta/wages[0][1], -wages[0][0]/wages[0][1] * x2 + theta/wages[0][1]]);"
      ],
      "execution_count": 5,
      "outputs": [
        {
          "output_type": "display_data",
          "data": {
            "image/png": "[encoded data removed]",
            "text/plain": [
              "<Figure size 432x288 with 1 Axes>"
            ]
          },
          "metadata": {
            "tags": [],
            "needs_background": "light"
          }
        }
      ]
    },
    {
      "cell_type": "code",
      "metadata": {
        "id": "zvwHrkWvtJbf"
      },
      "source": [
        ""
      ],
      "execution_count": null,
      "outputs": []
    }
  ]
}
